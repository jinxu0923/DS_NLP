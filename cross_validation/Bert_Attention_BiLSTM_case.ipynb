{
 "cells": [
  {
   "cell_type": "code",
   "execution_count": 1,
   "id": "140bcb44",
   "metadata": {},
   "outputs": [
    {
     "name": "stderr",
     "output_type": "stream",
     "text": [
      "D:\\anaconda\\envs\\py36\\lib\\site-packages\\tqdm\\auto.py:22: TqdmWarning: IProgress not found. Please update jupyter and ipywidgets. See https://ipywidgets.readthedocs.io/en/stable/user_install.html\n",
      "  from .autonotebook import tqdm as notebook_tqdm\n"
     ]
    }
   ],
   "source": [
    "import pandas as pd\n",
    "import numpy as np\n",
    "import torch\n",
    "import torch.nn as nn\n",
    "import torch.nn.functional as F\n",
    "from torch.utils.data import TensorDataset, DataLoader\n",
    "from sklearn.metrics import precision_score, recall_score, f1_score\n",
    "from transformers import BertTokenizer,BertModel\n",
    "from sklearn.model_selection import train_test_split"
   ]
  },
  {
   "cell_type": "code",
   "execution_count": 2,
   "id": "b2ad0875",
   "metadata": {},
   "outputs": [],
   "source": [
    "np.random.seed(2020)\n",
    "torch.manual_seed(2020)\n",
    "USE_CUDA = torch.cuda.is_available()\n",
    "if USE_CUDA:\n",
    "    torch.cuda.manual_seed(2020)"
   ]
  },
  {
   "cell_type": "code",
   "execution_count": 3,
   "id": "867fb072",
   "metadata": {},
   "outputs": [],
   "source": [
    "fold = 4"
   ]
  },
  {
   "cell_type": "code",
   "execution_count": 4,
   "id": "85aeb410",
   "metadata": {},
   "outputs": [],
   "source": [
    "#read the training data and change the label into 0 to 4\n",
    "dblp = pd.read_table(r\"C:\\Users\\Jin Xu\\Desktop\\NLP_project\\new_data\\\\\" + str(fold) + \"_train.txt\", sep='\\t', header=None)\n",
    "dblp.columns = ['idx', 'conference', 'title']\n",
    "dblp_new = dblp.replace('INFOCOM', 0).replace('ISCAS', 1).replace('SIGGRAPH', 2).replace('VLDB', 3).replace('WWW', 4)"
   ]
  },
  {
   "cell_type": "code",
   "execution_count": 5,
   "id": "9d762a0e",
   "metadata": {},
   "outputs": [],
   "source": [
    "#remove some punctuations\n",
    "def pretreatment(comments):\n",
    "    result_comments=[]\n",
    "    punctuation='。，？！：%&~（）、；“”&|,.?!:%&~();\"\"'\n",
    "    for comment in comments:\n",
    "        comment= ''.join([c for c in comment if c not in punctuation])\n",
    "        comment= ''.join(comment.split())   #\\xa0\n",
    "        result_comments.append(comment)\n",
    "    \n",
    "    return result_comments"
   ]
  },
  {
   "cell_type": "code",
   "execution_count": 6,
   "id": "a5727657",
   "metadata": {},
   "outputs": [],
   "source": [
    "result_comments=pretreatment(list(dblp_new['title'].values))"
   ]
  },
  {
   "cell_type": "code",
   "execution_count": 7,
   "id": "e63ce1eb",
   "metadata": {},
   "outputs": [
    {
     "data": {
      "text/plain": [
       "17317"
      ]
     },
     "execution_count": 7,
     "metadata": {},
     "output_type": "execute_result"
    }
   ],
   "source": [
    "len(result_comments)"
   ]
  },
  {
   "cell_type": "code",
   "execution_count": 8,
   "id": "20b79a0d",
   "metadata": {},
   "outputs": [],
   "source": [
    "#import the pretrained bert model"
   ]
  },
  {
   "cell_type": "code",
   "execution_count": 7,
   "id": "d7e4bac3",
   "metadata": {},
   "outputs": [],
   "source": [
    "tokenizer = BertTokenizer.from_pretrained('bert-base-cased')"
   ]
  },
  {
   "cell_type": "code",
   "execution_count": 8,
   "id": "1133d62b",
   "metadata": {},
   "outputs": [],
   "source": [
    "result_comments_id = tokenizer(dblp_new['title'].values.tolist(),padding=True,truncation=True,max_length=20,return_tensors='pt')"
   ]
  },
  {
   "cell_type": "code",
   "execution_count": 11,
   "id": "45d840b1",
   "metadata": {},
   "outputs": [],
   "source": [
    "#split the training data into train-valid data"
   ]
  },
  {
   "cell_type": "code",
   "execution_count": 9,
   "id": "a32dd2cb",
   "metadata": {},
   "outputs": [],
   "source": [
    "X=result_comments_id['input_ids']\n",
    "y=torch.from_numpy(dblp_new['conference'].values).float()\n",
    "\n",
    "X_train,X_valid, y_train, y_valid =train_test_split(X,y,test_size=0.3,shuffle=True,stratify=y,random_state=2020)"
   ]
  },
  {
   "cell_type": "code",
   "execution_count": 10,
   "id": "de887c3e",
   "metadata": {},
   "outputs": [
    {
     "data": {
      "text/plain": [
       "(12121, 5196)"
      ]
     },
     "execution_count": 10,
     "metadata": {},
     "output_type": "execute_result"
    }
   ],
   "source": [
    "len(X_train),len(X_valid)"
   ]
  },
  {
   "cell_type": "code",
   "execution_count": 11,
   "id": "17d2ef8a",
   "metadata": {},
   "outputs": [],
   "source": [
    "dblp_test = pd.read_table(r\"C:\\Users\\Jin Xu\\Desktop\\NLP_project\\new_data\\\\\" + str(fold) + \"_valid.txt\", sep='\\t', header=None)\n",
    "dblp_test.columns = ['idx', 'conference', 'title']\n",
    "dblp_test_new = dblp_test.replace('INFOCOM', 0).replace('ISCAS', 1).replace('SIGGRAPH', 2).replace('VLDB', 3).replace('WWW', 4)"
   ]
  },
  {
   "cell_type": "code",
   "execution_count": 12,
   "id": "39aeaaa3",
   "metadata": {},
   "outputs": [],
   "source": [
    "result_comments_id_test = tokenizer(dblp_test_new['title'].values.tolist(),padding=True,truncation=True,max_length=20,return_tensors='pt')"
   ]
  },
  {
   "cell_type": "code",
   "execution_count": 13,
   "id": "96bba21c",
   "metadata": {},
   "outputs": [],
   "source": [
    "# create Tensor datasets\n",
    "train_data = TensorDataset(X_train, y_train)\n",
    "valid_data = TensorDataset(X_valid, y_valid)\n",
    "test_data = TensorDataset(result_comments_id_test['input_ids'], torch.from_numpy(dblp_test_new['conference'].values).float())\n",
    "\n",
    "# dataloaders\n",
    "batch_size = 32\n",
    "\n",
    "# make sure the SHUFFLE your training data\n",
    "train_loader = DataLoader(train_data, shuffle=True, batch_size=batch_size,drop_last=True)\n",
    "valid_loader = DataLoader(valid_data, shuffle=True, batch_size=batch_size,drop_last=True)\n",
    "test_loader = DataLoader(test_data, shuffle=True, batch_size=batch_size,drop_last=True)\n"
   ]
  },
  {
   "cell_type": "code",
   "execution_count": 14,
   "id": "5db7ba71",
   "metadata": {},
   "outputs": [
    {
     "name": "stdout",
     "output_type": "stream",
     "text": [
      "Training on GPU.\n"
     ]
    }
   ],
   "source": [
    "if(USE_CUDA):\n",
    "    print('Training on GPU.')\n",
    "else:\n",
    "    print('No GPU available, training on CPU.')"
   ]
  },
  {
   "cell_type": "code",
   "execution_count": 15,
   "id": "b1255e3d",
   "metadata": {},
   "outputs": [],
   "source": [
    "class bert_lstm(nn.Module):\n",
    "    def __init__(self, hidden_dim,output_size,n_layers,bidirectional=True, drop_prob=0.5):\n",
    "        super(bert_lstm, self).__init__()\n",
    " \n",
    "        self.output_size = output_size\n",
    "        self.n_layers = n_layers\n",
    "        self.hidden_dim = hidden_dim\n",
    "        self.bidirectional = bidirectional\n",
    "        \n",
    "        #Bert\n",
    "        self.bert=BertModel.from_pretrained(\"bert-base-cased\")\n",
    "        for param in self.bert.parameters():\n",
    "            param.requires_grad = True\n",
    "        \n",
    "        # LSTM layers\n",
    "        self.lstm = nn.LSTM(768, hidden_dim, n_layers, batch_first=True,bidirectional=bidirectional)\n",
    "        self.attention_weights_layer = nn.Sequential(\n",
    "            nn.Linear(hidden_dim, hidden_dim),\n",
    "            nn.ReLU(inplace=True)\n",
    "        )\n",
    "        \n",
    "        # dropout layer\n",
    "        self.dropout = nn.Dropout(drop_prob)\n",
    "        \n",
    "        # linear and sigmoid layers\n",
    "        if bidirectional:\n",
    "            self.fc = nn.Linear(hidden_dim*2, output_size)\n",
    "        else:\n",
    "            self.fc = nn.Linear(hidden_dim, output_size)\n",
    "          \n",
    "        #self.sig = nn.Sigmoid()\n",
    " \n",
    "    def forward(self, x, hidden):\n",
    "        batch_size = x.size(0)\n",
    "        #bert word vector\n",
    "        x=self.bert(x)[0]\n",
    "        \n",
    "        # lstm_out\n",
    "        #x = x.float()\n",
    "        lstm_out, (hidden_last,cn_last) = self.lstm(x, hidden)\n",
    "        #print(lstm_out.shape,'lstm_out')   #[32,20,768]\n",
    "        #print(hidden_last.shape, 'hidden_last')   #[4, 32, 384]\n",
    "        #print(cn_last.shape)    #[4, 32, 384]\n",
    "        \n",
    "        #split the output into forward and backward\n",
    "        (forward_out, backward_out) = torch.chunk(lstm_out, 2, dim = 2)\n",
    "        hidden_last_out = forward_out + backward_out  #[batch, seq_len, hidden_size]\n",
    "        #out = out.permute(1, 0, 2)  #[batch, seq_len, hidden_size] #16,20,16\n",
    "        #cope with the bidirectional \n",
    "        #if self.bidirectional:\n",
    "            #forward last layer, last time slot\n",
    "            #hidden_last_L=hidden_last[-2]\n",
    "            #print(hidden_last_L.shape)  #[32, 384]\n",
    "            #backward last layer, last time slot\n",
    "            #hidden_last_R=hidden_last[-1]\n",
    "            #print(hidden_last_R.shape)   #[32, 384]\n",
    "            #contatenate\n",
    "            #hidden_last_out=torch.cat([hidden_last_L,hidden_last_R],dim=-1)\n",
    "            #print(hidden_last_out.shape,'hidden_last_out')   #[32, 768]\n",
    "        #else:\n",
    "            #hidden_last_out=hidden_last[-1]   #[32, 384]\n",
    "            \n",
    "        hidden_last = hidden_last.permute(1, 0, 2)  #[batch, num_layers * num_directions,  hidden_size]\n",
    "        hidden_last = torch.sum(hidden_last, dim=1) #[batch, 1,  hidden_size]\n",
    "        hidden_last = hidden_last.squeeze(dim=1)  #[batch, hidden_size]\n",
    "        \n",
    "        attention_w = self.attention_weights_layer(hidden_last)  #[batch, hidden_size]\n",
    "        attention_w = attention_w.unsqueeze(dim=1) #[batch, 1, hidden_size]\n",
    "        \n",
    "        #print(attention_w.shape)\n",
    "        #print(hidden_last_out.transpose(1, 2).shape)\n",
    "        attention_context = torch.bmm(attention_w, hidden_last_out.transpose(1, 2))  #[batch, 1, seq_len]\n",
    "        softmax_w = F.softmax(attention_context, dim=-1)  #[batch, 1, seq_len],权重归一化\n",
    "        \n",
    "        x = torch.bmm(softmax_w, lstm_out)  #[batch, 1, hidden_size]\n",
    "        x = x.squeeze(dim=1)  #[batch, hidden_size]\n",
    "        \n",
    "        # dropout and fully-connected layer\n",
    "        out = self.dropout(x)\n",
    "        #print(out.shape)    #[32,768]\n",
    "        out = self.fc(out)\n",
    "        \n",
    "        return out\n",
    "    \n",
    "    def init_hidden(self, batch_size):\n",
    "        weight = next(self.parameters()).data\n",
    "        \n",
    "        number = 1\n",
    "        if self.bidirectional:\n",
    "            number = 2\n",
    "        \n",
    "        if (USE_CUDA):\n",
    "            hidden = (weight.new(self.n_layers*number, batch_size, self.hidden_dim).zero_().float().cuda(),\n",
    "                      weight.new(self.n_layers*number, batch_size, self.hidden_dim).zero_().float().cuda()\n",
    "                     )\n",
    "        else:\n",
    "            hidden = (weight.new(self.n_layers*number, batch_size, self.hidden_dim).zero_().float(),\n",
    "                      weight.new(self.n_layers*number, batch_size, self.hidden_dim).zero_().float()\n",
    "                     )\n",
    "        \n",
    "        return hidden"
   ]
  },
  {
   "cell_type": "code",
   "execution_count": 16,
   "id": "7f03a63f",
   "metadata": {},
   "outputs": [],
   "source": [
    "output_size = 5\n",
    "hidden_dim = 384   #768/2\n",
    "n_layers = 2\n",
    "bidirectional = True  #true means bidirectional\n",
    "\n",
    "net = bert_lstm(hidden_dim, output_size,n_layers, bidirectional)\n",
    "\n",
    "#print(net)"
   ]
  },
  {
   "cell_type": "code",
   "execution_count": 17,
   "id": "bacd056c",
   "metadata": {},
   "outputs": [],
   "source": [
    "# loss and optimization functions\n",
    "lr=2e-4\n",
    "criterion = nn.CrossEntropyLoss()\n",
    "optimizer = torch.optim.Adam(net.parameters(), lr=lr)\n",
    "\n",
    "# training params\n",
    "epochs = 5\n",
    "# batch_size=50\n",
    "print_every = 100\n",
    "clip=5 # gradient clipping\n",
    " \n",
    "# move model to GPU, if available\n",
    "if(USE_CUDA):\n",
    "    net.cuda()"
   ]
  },
  {
   "cell_type": "code",
   "execution_count": 18,
   "id": "be5a5840",
   "metadata": {},
   "outputs": [
    {
     "name": "stdout",
     "output_type": "stream",
     "text": [
      "Epoch: 1/5... Step: 100... Loss: 0.899543... Val Loss: 0.734099 Accuracy: 0.728253...\n",
      "Epoch: 1/5... Step: 200... Loss: 0.737573... Val Loss: 0.688296 Accuracy: 0.721901...\n",
      "Epoch: 1/5... Step: 300... Loss: 0.419533... Val Loss: 0.598504 Accuracy: 0.794265...\n",
      "Epoch: 2/5... Step: 100... Loss: 0.554378... Val Loss: 0.562518 Accuracy: 0.825828...\n",
      "Epoch: 2/5... Step: 200... Loss: 0.654045... Val Loss: 0.648887 Accuracy: 0.799846...\n",
      "Epoch: 2/5... Step: 300... Loss: 1.465117... Val Loss: 1.544356 Accuracy: 0.346613...\n",
      "Epoch: 3/5... Step: 100... Loss: 1.554122... Val Loss: 1.539853 Accuracy: 0.346420...\n",
      "Epoch: 3/5... Step: 200... Loss: 1.594955... Val Loss: 1.544990 Accuracy: 0.346613...\n",
      "Epoch: 3/5... Step: 300... Loss: 1.574809... Val Loss: 1.546288 Accuracy: 0.346228...\n",
      "Epoch: 4/5... Step: 100... Loss: 1.563314... Val Loss: 1.540844 Accuracy: 0.346805...\n",
      "Epoch: 4/5... Step: 200... Loss: 1.516192... Val Loss: 1.543340 Accuracy: 0.346420...\n",
      "Epoch: 4/5... Step: 300... Loss: 1.622187... Val Loss: 1.540176 Accuracy: 0.346420...\n",
      "Epoch: 5/5... Step: 100... Loss: 1.555735... Val Loss: 1.541639 Accuracy: 0.346613...\n",
      "Epoch: 5/5... Step: 200... Loss: 1.451239... Val Loss: 1.541403 Accuracy: 0.346228...\n",
      "Epoch: 5/5... Step: 300... Loss: 1.576898... Val Loss: 1.539421 Accuracy: 0.346613...\n"
     ]
    }
   ],
   "source": [
    "net.train()\n",
    "# train for some number of epochs\n",
    "for e in range(epochs):\n",
    "    # initialize hidden state\n",
    "    h = net.init_hidden(batch_size)\n",
    "    counter = 0\n",
    " \n",
    "    # batch loop\n",
    "    for inputs, labels in train_loader:\n",
    "        counter += 1\n",
    "        \n",
    "        if(USE_CUDA):\n",
    "            inputs, labels = inputs.cuda(), labels.cuda()\n",
    "        h = tuple([each.data for each in h])\n",
    "        net.zero_grad()\n",
    "        output= net(inputs, h)\n",
    "        #print(output.shape)\n",
    "        #labels = labels.to(torch.int64)\n",
    "        #print(labels.shape)\n",
    "        loss = criterion(output, labels.long())\n",
    "        loss.backward()\n",
    "        optimizer.step()\n",
    " \n",
    "        # loss stats\n",
    "        if counter % print_every == 0:\n",
    "            net.eval()\n",
    "            with torch.no_grad():\n",
    "                val_h = net.init_hidden(batch_size)\n",
    "                val_losses = []\n",
    "                total_acc_val = 0\n",
    "                for inputs, labels in valid_loader:\n",
    "                    val_h = tuple([each.data for each in val_h])\n",
    "\n",
    "                    if(USE_CUDA):\n",
    "                        inputs, labels = inputs.cuda(), labels.cuda()\n",
    "\n",
    "                    output = net(inputs, val_h)\n",
    "                    acc = (output.argmax(dim=1) == labels).sum().item()\n",
    "                    total_acc_val = total_acc_val + acc\n",
    "                    val_loss = criterion(output.squeeze(), labels.long())\n",
    "\n",
    "                    val_losses.append(val_loss.item())\n",
    " \n",
    "            net.train()\n",
    "            print(\"Epoch: {}/{}...\".format(e+1, epochs),\n",
    "                  \"Step: {}...\".format(counter),\n",
    "                  \"Loss: {:.6f}...\".format(loss.item()),\n",
    "                  \"Val Loss: {:.6f}\".format(np.mean(val_losses)),\n",
    "                 \"Accuracy: {:.6f}...\".format(total_acc_val / len(valid_data))\n",
    "                 )\n"
   ]
  },
  {
   "cell_type": "code",
   "execution_count": 19,
   "id": "0adcc242",
   "metadata": {},
   "outputs": [
    {
     "name": "stdout",
     "output_type": "stream",
     "text": [
      "Test loss: 1.539\n",
      "Test accuracy: 0.347\n",
      "precision  0.06953703703703704\n",
      "recall  0.2\n",
      "f1  0.10319477842665752\n"
     ]
    },
    {
     "name": "stderr",
     "output_type": "stream",
     "text": [
      "D:\\anaconda\\envs\\py36\\lib\\site-packages\\sklearn\\metrics\\_classification.py:1248: UndefinedMetricWarning: Precision is ill-defined and being set to 0.0 in labels with no predicted samples. Use `zero_division` parameter to control this behavior.\n",
      "  _warn_prf(average, modifier, msg_start, len(result))\n"
     ]
    }
   ],
   "source": [
    "test_losses = [] # track loss\n",
    "num_correct = 0\n",
    " \n",
    "# init hidden state\n",
    "h = net.init_hidden(batch_size)\n",
    " \n",
    "net.eval()\n",
    "preds_total = []\n",
    "labels_total = []\n",
    "# iterate over test data\n",
    "for inputs, labels in test_loader:\n",
    "    h = tuple([each.data for each in h])\n",
    "    if(USE_CUDA):\n",
    "        inputs, labels = inputs.cuda(), labels.cuda()\n",
    "    output = net(inputs, h)\n",
    "    test_loss = criterion(output.squeeze(), labels.long())\n",
    "    test_losses.append(test_loss.item())\n",
    "    \n",
    "    output=torch.nn.Softmax(dim=1)(output)\n",
    "    pred=torch.max(output, 1)[1]\n",
    "    preds_total.extend(pred.cpu().numpy().tolist())\n",
    "    labels_total.extend(labels.cpu().numpy().tolist())\n",
    "    \n",
    "    # compare predictions to true label\n",
    "    correct_tensor = pred.eq(labels.float().view_as(pred))\n",
    "    correct = np.squeeze(correct_tensor.numpy()) if not USE_CUDA else np.squeeze(correct_tensor.cpu().numpy())\n",
    "    num_correct += np.sum(correct)\n",
    "\n",
    "print(\"Test loss: {:.3f}\".format(np.mean(test_losses)))\n",
    " \n",
    "# accuracy over all test data\n",
    "test_acc = num_correct/len(test_loader.dataset)\n",
    "print(\"Test accuracy: {:.3f}\".format(test_acc))\n",
    "print(\"precision \", precision_score(labels_total, preds_total, average='macro'))\n",
    "print(\"recall \", recall_score(labels_total, preds_total, average='macro'))\n",
    "print(\"f1 \", f1_score(labels_total, preds_total, average='macro'))\n"
   ]
  },
  {
   "cell_type": "code",
   "execution_count": null,
   "id": "c535ef15",
   "metadata": {},
   "outputs": [],
   "source": []
  }
 ],
 "metadata": {
  "kernelspec": {
   "display_name": "python36",
   "language": "python",
   "name": "python36"
  },
  "language_info": {
   "codemirror_mode": {
    "name": "ipython",
    "version": 3
   },
   "file_extension": ".py",
   "mimetype": "text/x-python",
   "name": "python",
   "nbconvert_exporter": "python",
   "pygments_lexer": "ipython3",
   "version": "3.6.13"
  }
 },
 "nbformat": 4,
 "nbformat_minor": 5
}
